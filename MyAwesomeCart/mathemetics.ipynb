{
 "cells": [
  {
   "cell_type": "code",
   "execution_count": 13,
   "metadata": {},
   "outputs": [
    {
     "data": {
      "text/plain": [
       "1"
      ]
     },
     "execution_count": 13,
     "metadata": {},
     "output_type": "execute_result"
    }
   ],
   "source": [
    "from math import ceil\n",
    "n = 1\n",
    "n // 4 + ceil((n/4) - (n // 4))"
   ]
  },
  {
   "cell_type": "code",
   "execution_count": 1,
   "metadata": {},
   "outputs": [
    {
     "ename": "SyntaxError",
     "evalue": "invalid syntax (2122160909.py, line 1)",
     "output_type": "error",
     "traceback": [
      "\u001b[1;36m  Cell \u001b[1;32mIn[1], line 1\u001b[1;36m\u001b[0m\n\u001b[1;33m    <QuerySet [{'category': 'Cleaner', 'id': 2}, {'category': 'Footware', 'id': 3}, {'category': 'Electronics', 'id': 4}, {'category': 'Computer', 'id': 5}, {'category': 'Electronics', 'id': 7}, {'category': 'Electronics', 'id': 8}]>\u001b[0m\n\u001b[1;37m    ^\u001b[0m\n\u001b[1;31mSyntaxError\u001b[0m\u001b[1;31m:\u001b[0m invalid syntax\n"
     ]
    }
   ],
   "source": [
    "[{'category': 'Cleaner', 'id': 2}, {'category': 'Footware', 'id': 3}, {'category': 'Electronics', 'id': 4}, {'category': 'Computer', 'id': 5}, {'category': 'Electronics', 'id': 7}, {'category': 'Electronics', 'id': 8}]"
   ]
  },
  {
   "cell_type": "code",
   "execution_count": 6,
   "metadata": {},
   "outputs": [
    {
     "name": "stdout",
     "output_type": "stream",
     "text": [
      "Sarfraz\n",
      "Khan\n"
     ]
    }
   ],
   "source": [
    "list1 = ['Sarfraz', 'Khan']\n",
    "def func(a):\n",
    "    for i in a:\n",
    "        print(i)\n",
    "\n",
    "func(list1)"
   ]
  },
  {
   "cell_type": "code",
   "execution_count": 4,
   "metadata": {},
   "outputs": [
    {
     "name": "stdout",
     "output_type": "stream",
     "text": [
      "True\n"
     ]
    }
   ],
   "source": [
    "def func():\n",
    "    a = 1\n",
    "    if a:\n",
    "        thank = True\n",
    "    print(thank)\n",
    "    \n",
    "\n",
    "func()"
   ]
  },
  {
   "cell_type": "code",
   "execution_count": 6,
   "metadata": {},
   "outputs": [],
   "source": [
    "upd = [2,]\n",
    "a = []\n",
    "try:\n",
    "    if len(upd)>0:\n",
    "        for i in a:\n",
    "            print(i)\n",
    "    else:\n",
    "        print('else')\n",
    "\n",
    "except Exception as e:\n",
    "    print('except', e)"
   ]
  },
  {
   "cell_type": "code",
   "execution_count": 1,
   "metadata": {},
   "outputs": [
    {
     "data": {
      "text/plain": [
       "'out'"
      ]
     },
     "execution_count": 1,
     "metadata": {},
     "output_type": "execute_result"
    }
   ],
   "source": [
    "def func():\n",
    "    upd = [2,]\n",
    "    a = []\n",
    "    try:\n",
    "        if len(upd)>0:\n",
    "            for i in a:\n",
    "                return 'hy'\n",
    "\n",
    "        else:\n",
    "            print('else')\n",
    "\n",
    "    except Exception as e:\n",
    "        print('except', e)\n",
    "    return 'out'\n",
    "func()"
   ]
  },
  {
   "cell_type": "code",
   "execution_count": null,
   "metadata": {},
   "outputs": [],
   "source": [
    "from django.views.decorators.csrf import csrf_exempt\n",
    "# Paytm Integration payment gateway\n",
    "# Paytm will send you post request here bypass the csrf and using security checksum \n",
    "@csrf_exempt\n",
    "def handletrequest(request):\n",
    "    pass"
   ]
  }
 ],
 "metadata": {
  "kernelspec": {
   "display_name": "env",
   "language": "python",
   "name": "python3"
  },
  "language_info": {
   "codemirror_mode": {
    "name": "ipython",
    "version": 3
   },
   "file_extension": ".py",
   "mimetype": "text/x-python",
   "name": "python",
   "nbconvert_exporter": "python",
   "pygments_lexer": "ipython3",
   "version": "3.10.4"
  },
  "orig_nbformat": 4
 },
 "nbformat": 4,
 "nbformat_minor": 2
}
